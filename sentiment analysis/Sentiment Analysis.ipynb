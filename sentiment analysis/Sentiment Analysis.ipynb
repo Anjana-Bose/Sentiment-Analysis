{
 "cells": [
  {
   "cell_type": "markdown",
   "id": "e9ab79dd",
   "metadata": {},
   "source": [
    "# Analyzing the sentiment of data collected from internet"
   ]
  },
  {
   "cell_type": "code",
   "execution_count": 1,
   "id": "d7fb5231",
   "metadata": {},
   "outputs": [
    {
     "name": "stderr",
     "output_type": "stream",
     "text": [
      "[nltk_data] Downloading package punkt to\n",
      "[nltk_data]     C:\\Users\\bosea\\AppData\\Roaming\\nltk_data...\n",
      "[nltk_data]   Package punkt is already up-to-date!\n"
     ]
    },
    {
     "data": {
      "text/plain": [
       "True"
      ]
     },
     "execution_count": 1,
     "metadata": {},
     "output_type": "execute_result"
    }
   ],
   "source": [
    "import nltk\n",
    "nltk.download('punkt')"
   ]
  },
  {
   "cell_type": "code",
   "execution_count": 2,
   "id": "d9cbef80",
   "metadata": {},
   "outputs": [],
   "source": [
    "from textblob import TextBlob\n",
    "from newspaper import Article"
   ]
  },
  {
   "cell_type": "code",
   "execution_count": 13,
   "id": "63c77f2d",
   "metadata": {},
   "outputs": [],
   "source": [
    "url = 'https://timesofindia.indiatimes.com/city/delhi/sakshi-delhi-murder-sahil-khan-case-delhi-police-latest-updates-sahil-khan-slept-in-a-park-after-killing-delhi-girl-sakshi-threw-his-mobile-phone-in-a-drain/articleshow/100646403.cms?from=mdr'\n",
    "article = Article(url)"
   ]
  },
  {
   "cell_type": "code",
   "execution_count": 14,
   "id": "35b31baa",
   "metadata": {},
   "outputs": [],
   "source": [
    "article.download()\n",
    "article.parse()\n",
    "article.nlp()"
   ]
  },
  {
   "cell_type": "code",
   "execution_count": 15,
   "id": "90f3fc13",
   "metadata": {},
   "outputs": [
    {
     "name": "stdout",
     "output_type": "stream",
     "text": [
      "The phone has been recovered.Sahil (20) then walked to the Rithala metro station from where he caught an RTV to reach Samaypur Badli.\n",
      "Sahil got angry at this as the four had a verbal spat in which Sakshi also said demeaning things to him.\n",
      "\"In a purported audio of Sakshi which she sent to Khan on Instagram, she asks, \"Gali ka badmash hai kya tu (are you the goon of the area?)?\"\n",
      "The FIR mentions that Sakshi's parents would often ask her not to engage with him since she was still a minor but she paid no heed.A Delhi court on Tuesday sent Sahil Khan to two-day police custody.\n",
      "After his medical examination, he was brought to the national capital late Monday evening.The minor girl, Sakshi, was brutally stabbed to death on Sunday evening.\n"
     ]
    }
   ],
   "source": [
    "text = article.summary\n",
    "print(text)"
   ]
  },
  {
   "cell_type": "code",
   "execution_count": 16,
   "id": "ac456461",
   "metadata": {},
   "outputs": [
    {
     "name": "stdout",
     "output_type": "stream",
     "text": [
      "-0.29583333333333334\n"
     ]
    }
   ],
   "source": [
    "blob = TextBlob(text)\n",
    "sentiment = blob.sentiment.polarity # -1 to 1\n",
    "print(sentiment)"
   ]
  },
  {
   "cell_type": "markdown",
   "id": "f9cb9a7e",
   "metadata": {},
   "source": [
    "# negative sign indicates the negative sentiment of the article"
   ]
  }
 ],
 "metadata": {
  "kernelspec": {
   "display_name": "Python 3 (ipykernel)",
   "language": "python",
   "name": "python3"
  },
  "language_info": {
   "codemirror_mode": {
    "name": "ipython",
    "version": 3
   },
   "file_extension": ".py",
   "mimetype": "text/x-python",
   "name": "python",
   "nbconvert_exporter": "python",
   "pygments_lexer": "ipython3",
   "version": "3.10.0"
  }
 },
 "nbformat": 4,
 "nbformat_minor": 5
}
