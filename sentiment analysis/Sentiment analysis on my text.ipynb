{
 "cells": [
  {
   "cell_type": "markdown",
   "id": "77cdc327",
   "metadata": {},
   "source": [
    "# Analyzing own text"
   ]
  },
  {
   "cell_type": "code",
   "execution_count": 1,
   "id": "e2ab5050",
   "metadata": {},
   "outputs": [],
   "source": [
    "from textblob import TextBlob"
   ]
  },
  {
   "cell_type": "code",
   "execution_count": 2,
   "id": "06d6f4ff",
   "metadata": {},
   "outputs": [],
   "source": [
    "with open('text_1.txt','r') as f:\n",
    "    text = f.read()"
   ]
  },
  {
   "cell_type": "code",
   "execution_count": 3,
   "id": "7b9f5a1f",
   "metadata": {},
   "outputs": [
    {
     "name": "stdout",
     "output_type": "stream",
     "text": [
      "0.8\n"
     ]
    }
   ],
   "source": [
    "blob = TextBlob(text)\n",
    "sentiment = blob.sentiment.polarity # -1 to 1\n",
    "print(sentiment)"
   ]
  },
  {
   "cell_type": "markdown",
   "id": "d05412bb",
   "metadata": {},
   "source": [
    "# positive value denotes the positive sentiment of the text"
   ]
  }
 ],
 "metadata": {
  "kernelspec": {
   "display_name": "Python 3 (ipykernel)",
   "language": "python",
   "name": "python3"
  },
  "language_info": {
   "codemirror_mode": {
    "name": "ipython",
    "version": 3
   },
   "file_extension": ".py",
   "mimetype": "text/x-python",
   "name": "python",
   "nbconvert_exporter": "python",
   "pygments_lexer": "ipython3",
   "version": "3.10.0"
  }
 },
 "nbformat": 4,
 "nbformat_minor": 5
}
